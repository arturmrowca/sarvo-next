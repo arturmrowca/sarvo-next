{
 "cells": [
  {
   "cell_type": "code",
   "execution_count": 4,
   "metadata": {},
   "outputs": [],
   "source": [
    "import pandas as pd\n",
    "import os\n",
    "from push_events import generate_push_event"
   ]
  },
  {
   "cell_type": "code",
   "execution_count": 5,
   "metadata": {},
   "outputs": [
    {
     "name": "stdout",
     "output_type": "stream",
     "text": [
      "Test mode for event 'Online Poker.'\n",
      "Test mode for event 'Online Party.'\n",
      "Test mode for event 'Monopoly online.'\n",
      "Test mode for event 'Online Risiko Match.'\n",
      "Test mode for event 'Spiele Brettspiele online.'\n",
      "Test mode for event 'Gemeinsames online Abendessen.'\n"
     ]
    }
   ],
   "source": [
    "if __name__ == \"__main__\":\n",
    "\n",
    "    event_content = pd.read_csv(\"events_source.csv\", sep=\";\")\n",
    "    #event_contant_push = event_content.loc[event_content['push']]\n",
    "\n",
    "    for i in event_content.index:\n",
    "        generate_push_event(date=event_content.loc[i,'date'],\n",
    "                            title=event_content.loc[i,'title'],\n",
    "                            image_name=event_content.loc[i,'image'],\n",
    "                            descriptionIn=event_content.loc[i,'descriptionIn'],\n",
    "                            starChosen=event_content.loc[i,'starChosen'],\n",
    "                            category=event_content.loc[i,'category'],\n",
    "                            location=event_content.loc[i,'location'],\n",
    "                            numberPeople=event_content.loc[i,'numberPeople'],\n",
    "                            duration=event_content.loc[i,'duration'],\n",
    "                            whatYouNeed=event_content.loc[i,'whatYouNeed'].split('; '),\n",
    "                            postMessage=event_content.loc[i,'postMessage'],\n",
    "                            testMode=event_content.loc[i,'testMode'])            "
   ]
  },
  {
   "cell_type": "code",
   "execution_count": null,
   "metadata": {},
   "outputs": [],
   "source": []
  }
 ],
 "metadata": {
  "kernelspec": {
   "display_name": "Python 3",
   "language": "python",
   "name": "python3"
  },
  "language_info": {
   "codemirror_mode": {
    "name": "ipython",
    "version": 3
   },
   "file_extension": ".py",
   "mimetype": "text/x-python",
   "name": "python",
   "nbconvert_exporter": "python",
   "pygments_lexer": "ipython3",
   "version": "3.7.7"
  }
 },
 "nbformat": 4,
 "nbformat_minor": 4
}
